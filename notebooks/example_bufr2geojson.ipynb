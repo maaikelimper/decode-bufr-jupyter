{
 "cells": [
  {
   "cell_type": "code",
   "execution_count": null,
   "metadata": {},
   "outputs": [],
   "source": [
    "import os\n",
    "import json\n",
    "import itertools\n",
    "\n",
    "from ipyleaflet import Map, GeoJSON\n",
    "\n",
    "from bufr2geojson import transform\n",
    "s\n",
    "m = Map(center=(50.6252978589571, 0.34580993652344), zoom=3)\n",
    "\n",
    "test_bufr_file = '/root/sample-data/A_JSXX01ECEP251200_C_ECMP_20240625120000_tropical_cyclone_track_70W_132degE_6p4degN_bufr4.bin'\n",
    "with open(test_bufr_file, 'rb') as fh:\n",
    "    messages1, messages2 = itertools.tee(transform(fh.read()))\n",
    "\n",
    "    # validate against JSON Schema\n",
    "    for message in messages1:\n",
    "        geojson_dict = list(message.values())[0]['geojson']\n",
    "        display(geojson_dict)"
   ]
  }
 ],
 "metadata": {
  "kernelspec": {
   "display_name": "Python 3 (ipykernel)",
   "language": "python",
   "name": "python3"
  },
  "language_info": {
   "codemirror_mode": {
    "name": "ipython",
    "version": 3
   },
   "file_extension": ".py",
   "mimetype": "text/x-python",
   "name": "python",
   "nbconvert_exporter": "python",
   "pygments_lexer": "ipython3",
   "version": "3.10.12"
  }
 },
 "nbformat": 4,
 "nbformat_minor": 4
}

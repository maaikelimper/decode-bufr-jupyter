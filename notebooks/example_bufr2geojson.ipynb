{
 "cells": [
  {
   "cell_type": "code",
   "execution_count": 1,
   "metadata": {},
   "outputs": [
    {
     "ename": "FileNotFoundError",
     "evalue": "cfunits requires UNIDATA UDUNITS-2. Can't find the 'udunits2' library.",
     "output_type": "error",
     "traceback": [
      "\u001b[0;31m---------------------------------------------------------------------------\u001b[0m",
      "\u001b[0;31mFileNotFoundError\u001b[0m                         Traceback (most recent call last)",
      "Cell \u001b[0;32mIn[1], line 7\u001b[0m\n\u001b[1;32m      3\u001b[0m \u001b[38;5;28;01mimport\u001b[39;00m \u001b[38;5;21;01mitertools\u001b[39;00m\n\u001b[1;32m      5\u001b[0m \u001b[38;5;28;01mfrom\u001b[39;00m \u001b[38;5;21;01mipyleaflet\u001b[39;00m \u001b[38;5;28;01mimport\u001b[39;00m Map, GeoJSON\n\u001b[0;32m----> 7\u001b[0m \u001b[38;5;28;01mfrom\u001b[39;00m \u001b[38;5;21;01mbufr2geojson\u001b[39;00m \u001b[38;5;28;01mimport\u001b[39;00m transform\n\u001b[1;32m      8\u001b[0m s\n\u001b[1;32m      9\u001b[0m m \u001b[38;5;241m=\u001b[39m Map(center\u001b[38;5;241m=\u001b[39m(\u001b[38;5;241m50.6252978589571\u001b[39m, \u001b[38;5;241m0.34580993652344\u001b[39m), zoom\u001b[38;5;241m=\u001b[39m\u001b[38;5;241m3\u001b[39m)\n",
      "File \u001b[0;32m/usr/local/lib/python3.10/dist-packages/bufr2geojson/__init__.py:39\u001b[0m\n\u001b[1;32m     35\u001b[0m \u001b[38;5;28;01mimport\u001b[39;00m \u001b[38;5;21;01mtempfile\u001b[39;00m\n\u001b[1;32m     36\u001b[0m \u001b[38;5;28;01mfrom\u001b[39;00m \u001b[38;5;21;01mtyping\u001b[39;00m \u001b[38;5;28;01mimport\u001b[39;00m Iterator, Union\n\u001b[0;32m---> 39\u001b[0m \u001b[38;5;28;01mfrom\u001b[39;00m \u001b[38;5;21;01mcfunits\u001b[39;00m \u001b[38;5;28;01mimport\u001b[39;00m Units\n\u001b[1;32m     40\u001b[0m \u001b[38;5;28;01mfrom\u001b[39;00m \u001b[38;5;21;01meccodes\u001b[39;00m \u001b[38;5;28;01mimport\u001b[39;00m (codes_bufr_new_from_file, codes_clone,\n\u001b[1;32m     41\u001b[0m                      codes_get_array, codes_set,\n\u001b[1;32m     42\u001b[0m                      codes_release, codes_get,\n\u001b[0;32m   (...)\u001b[0m\n\u001b[1;32m     46\u001b[0m                      codes_bufr_keys_iterator_delete, codes_definition_path,\n\u001b[1;32m     47\u001b[0m                      codes_bufr_keys_iterator_get_name)\n\u001b[1;32m     49\u001b[0m \u001b[38;5;28;01mimport\u001b[39;00m \u001b[38;5;21;01mnumpy\u001b[39;00m \u001b[38;5;28;01mas\u001b[39;00m \u001b[38;5;21;01mnp\u001b[39;00m\n",
      "File \u001b[0;32m/usr/local/lib/python3.10/dist-packages/cfunits/__init__.py:47\u001b[0m\n\u001b[1;32m     41\u001b[0m \u001b[38;5;28;01mif\u001b[39;00m Version(cftime\u001b[38;5;241m.\u001b[39m__version__) \u001b[38;5;241m<\u001b[39m Version(_minimum_vn):\n\u001b[1;32m     42\u001b[0m     \u001b[38;5;28;01mraise\u001b[39;00m \u001b[38;5;167;01mValueError\u001b[39;00m(\n\u001b[1;32m     43\u001b[0m         \u001b[38;5;124mf\u001b[39m\u001b[38;5;124m\"\u001b[39m\u001b[38;5;124mBad cftime version: cfunits requires cftime>=\u001b[39m\u001b[38;5;132;01m{\u001b[39;00m_minimum_vn\u001b[38;5;132;01m}\u001b[39;00m\u001b[38;5;124m. Got \u001b[39m\u001b[38;5;124m\"\u001b[39m\n\u001b[1;32m     44\u001b[0m         \u001b[38;5;124mf\u001b[39m\u001b[38;5;124m\"\u001b[39m\u001b[38;5;132;01m{\u001b[39;00mcftime\u001b[38;5;241m.\u001b[39m__version__\u001b[38;5;132;01m}\u001b[39;00m\u001b[38;5;124m at \u001b[39m\u001b[38;5;132;01m{\u001b[39;00mcftime\u001b[38;5;241m.\u001b[39m\u001b[38;5;18m__file__\u001b[39m\u001b[38;5;132;01m}\u001b[39;00m\u001b[38;5;124m\"\u001b[39m\n\u001b[1;32m     45\u001b[0m     )\n\u001b[0;32m---> 47\u001b[0m \u001b[38;5;28;01mfrom\u001b[39;00m \u001b[38;5;21;01m.\u001b[39;00m\u001b[38;5;21;01munits\u001b[39;00m \u001b[38;5;28;01mimport\u001b[39;00m Units  \u001b[38;5;66;03m# noqa: F401\u001b[39;00m\n",
      "File \u001b[0;32m/usr/local/lib/python3.10/dist-packages/cfunits/units.py:41\u001b[0m\n\u001b[1;32m     39\u001b[0m _libpath \u001b[38;5;241m=\u001b[39m ctypes\u001b[38;5;241m.\u001b[39mutil\u001b[38;5;241m.\u001b[39mfind_library(\u001b[38;5;124m\"\u001b[39m\u001b[38;5;124mudunits2\u001b[39m\u001b[38;5;124m\"\u001b[39m)\n\u001b[1;32m     40\u001b[0m \u001b[38;5;28;01mif\u001b[39;00m _libpath \u001b[38;5;129;01mis\u001b[39;00m \u001b[38;5;28;01mNone\u001b[39;00m:\n\u001b[0;32m---> 41\u001b[0m     \u001b[38;5;28;01mraise\u001b[39;00m \u001b[38;5;167;01mFileNotFoundError\u001b[39;00m(\n\u001b[1;32m     42\u001b[0m         \u001b[38;5;124m\"\u001b[39m\u001b[38;5;124mcfunits requires UNIDATA UDUNITS-2. Can\u001b[39m\u001b[38;5;124m'\u001b[39m\u001b[38;5;124mt find the \u001b[39m\u001b[38;5;124m'\u001b[39m\u001b[38;5;124mudunits2\u001b[39m\u001b[38;5;124m'\u001b[39m\u001b[38;5;124m \u001b[39m\u001b[38;5;124m\"\u001b[39m\n\u001b[1;32m     43\u001b[0m         \u001b[38;5;124m\"\u001b[39m\u001b[38;5;124mlibrary.\u001b[39m\u001b[38;5;124m\"\u001b[39m\n\u001b[1;32m     44\u001b[0m     )\n\u001b[1;32m     46\u001b[0m _udunits \u001b[38;5;241m=\u001b[39m ctypes\u001b[38;5;241m.\u001b[39mCDLL(_libpath)\n\u001b[1;32m     48\u001b[0m \u001b[38;5;66;03m# Suppress \"overrides prefixed-unit\" messages. This also suppresses\u001b[39;00m\n\u001b[1;32m     49\u001b[0m \u001b[38;5;66;03m# all other error messages - so watch out!\u001b[39;00m\n\u001b[1;32m     50\u001b[0m \u001b[38;5;66;03m#\u001b[39;00m\n\u001b[0;32m   (...)\u001b[0m\n\u001b[1;32m     53\u001b[0m \u001b[38;5;66;03m# ut_error_message_handler ut_set_error_message_handler(\u001b[39;00m\n\u001b[1;32m     54\u001b[0m \u001b[38;5;66;03m#                                   ut_error_message_handler handler);\u001b[39;00m\n",
      "\u001b[0;31mFileNotFoundError\u001b[0m: cfunits requires UNIDATA UDUNITS-2. Can't find the 'udunits2' library."
     ]
    }
   ],
   "source": [
    "import os\n",
    "import json\n",
    "import itertools\n",
    "\n",
    "from ipyleaflet import Map, GeoJSON\n",
    "\n",
    "from bufr2geojson import transform\n",
    "s\n",
    "m = Map(center=(50.6252978589571, 0.34580993652344), zoom=3)\n",
    "\n",
    "test_bufr_file = '/root/sample-data/A_JSXX01ECEP251200_C_ECMP_20240625120000_tropical_cyclone_track_70W_132degE_6p4degN_bufr4.bin'\n",
    "with open(test_bufr_file, 'rb') as fh:\n",
    "    messages1, messages2 = itertools.tee(transform(fh.read()))\n",
    "\n",
    "    # validate against JSON Schema\n",
    "    for message in messages1:\n",
    "        geojson_dict = list(message.values())[0]['geojson']\n",
    "    display(GeoJSON(data=geojson_dict))"
   ]
  },
  {
   "cell_type": "code",
   "execution_count": null,
   "metadata": {},
   "outputs": [],
   "source": []
  }
 ],
 "metadata": {
  "kernelspec": {
   "display_name": "Python 3 (ipykernel)",
   "language": "python",
   "name": "python3"
  },
  "language_info": {
   "codemirror_mode": {
    "name": "ipython",
    "version": 3
   },
   "file_extension": ".py",
   "mimetype": "text/x-python",
   "name": "python",
   "nbconvert_exporter": "python",
   "pygments_lexer": "ipython3",
   "version": "3.10.12"
  }
 },
 "nbformat": 4,
 "nbformat_minor": 4
}

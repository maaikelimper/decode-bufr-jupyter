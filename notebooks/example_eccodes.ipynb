{
 "cells": [
  {
   "cell_type": "code",
   "execution_count": null,
   "metadata": {},
   "outputs": [],
   "source": [
    "import os\n",
    "from eccodes import codes_bufr_new_from_file, codes_release, codes_get\n",
    "\n",
    "def decode_bufr(file_path):\n",
    "    with open(file_path, 'rb') as f:\n",
    "        while True:\n",
    "            # Create a new BUFR message from the file\n",
    "            bufr_message = codes_bufr_new_from_file(f)\n",
    "            if bufr_message is None:\n",
    "                break  # End of file\n",
    "            \n",
    "            # Get the number of subsets (i.e., records or data points) in the BUFR message\n",
    "            num_subsets = codes_get(bufr_message, 'numberOfSubsets')\n",
    "            print(f\"Number of subsets: {num_subsets}\")\n",
    "            \n",
    "            codes_release(bufr_message)\n",
    "\n",
    "test_bufr_file = '/root/sample-data/A_JSXX01ECEP251200_C_ECMP_20240625120000_tropical_cyclone_track_70W_132degE_6p4degN_bufr4.bin'\n",
    "decode_bufr(test_bufr_file)"
   ]
  }
 ],
 "metadata": {
  "kernelspec": {
   "display_name": "",
   "name": ""
  },
  "language_info": {
   "name": "python"
  }
 },
 "nbformat": 4,
 "nbformat_minor": 4
}
